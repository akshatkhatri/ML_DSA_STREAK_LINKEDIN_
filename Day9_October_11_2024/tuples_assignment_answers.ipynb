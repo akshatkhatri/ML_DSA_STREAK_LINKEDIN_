{
 "cells": [
  {
   "cell_type": "code",
   "execution_count": 47,
   "metadata": {},
   "outputs": [
    {
     "data": {
      "text/plain": [
       "(1, 2, 3, 4, 5, 6, 7, 8, 9, 10)"
      ]
     },
     "execution_count": 47,
     "metadata": {},
     "output_type": "execute_result"
    }
   ],
   "source": [
    "# Answer 1\n",
    "numbers = tuple(range(1,11))\n",
    "numbers"
   ]
  },
  {
   "cell_type": "code",
   "execution_count": 48,
   "metadata": {},
   "outputs": [
    {
     "name": "stdout",
     "output_type": "stream",
     "text": [
      "1\n",
      "[2, 3, 4, 5, 6, 7, 8, 9]\n",
      "10\n"
     ]
    }
   ],
   "source": [
    "# answer 2\n",
    "first,*middle,last = numbers\n",
    "print(first)\n",
    "print(middle)\n",
    "print(last)"
   ]
  },
  {
   "cell_type": "code",
   "execution_count": 49,
   "metadata": {},
   "outputs": [
    {
     "name": "stdout",
     "output_type": "stream",
     "text": [
      "(1, 2, 3)\n",
      "(8, 9, 10)\n",
      "(3, 4, 5)\n"
     ]
    }
   ],
   "source": [
    "# answer 3\n",
    "print(numbers[:3])\n",
    "print(numbers[-3:])\n",
    "print(numbers[2:5])\n"
   ]
  },
  {
   "cell_type": "code",
   "execution_count": 50,
   "metadata": {},
   "outputs": [
    {
     "data": {
      "text/plain": [
       "6"
      ]
     },
     "execution_count": 50,
     "metadata": {},
     "output_type": "execute_result"
    }
   ],
   "source": [
    "# answer 4\n",
    "tuple_3_by_3 = ((1,2,3),(4,5,6),(7,8,9))\n",
    "tuple_3_by_3[1][2]"
   ]
  },
  {
   "cell_type": "code",
   "execution_count": 51,
   "metadata": {},
   "outputs": [
    {
     "name": "stdout",
     "output_type": "stream",
     "text": [
      "(1, 2, 3, 4, 5, 6)\n"
     ]
    }
   ],
   "source": [
    "# answer 5\n",
    "tp1 = (1,2,3)\n",
    "tp2 = (4,5,6)\n",
    "\n",
    "print(tp1 + tp2)"
   ]
  },
  {
   "cell_type": "code",
   "execution_count": 52,
   "metadata": {},
   "outputs": [],
   "source": [
    "# answer 6\n",
    "sample_tuple = (1,2,3,4,5,6,6,6,7,8,9,9,10)"
   ]
  },
  {
   "cell_type": "code",
   "execution_count": 53,
   "metadata": {},
   "outputs": [
    {
     "name": "stdout",
     "output_type": "stream",
     "text": [
      "3\n",
      "10\n"
     ]
    }
   ],
   "source": [
    "print(sample_tuple.count(6))\n",
    "print(sample_tuple.index(9))"
   ]
  },
  {
   "cell_type": "code",
   "execution_count": 54,
   "metadata": {},
   "outputs": [
    {
     "name": "stdout",
     "output_type": "stream",
     "text": [
      "1 2 3 4 5\n"
     ]
    }
   ],
   "source": [
    "# answer 7\n",
    "tp = (1,2,3,4,5)\n",
    "a,b,c,d,e = tp\n",
    "print(a,b,c,d,e)"
   ]
  },
  {
   "cell_type": "code",
   "execution_count": 55,
   "metadata": {},
   "outputs": [
    {
     "name": "stdout",
     "output_type": "stream",
     "text": [
      "(1, 2, 3, 4, 5)\n"
     ]
    }
   ],
   "source": [
    "# answer 8\n",
    "\n",
    "first_5 = tuple(list([1,2,3,4,5]))\n",
    "print(first_5)"
   ]
  },
  {
   "cell_type": "code",
   "execution_count": 56,
   "metadata": {},
   "outputs": [
    {
     "name": "stdout",
     "output_type": "stream",
     "text": [
      "((1, 2, 3), (4, 5, 6), (7, 8, 9))\n"
     ]
    }
   ],
   "source": [
    "# answer 9\n",
    "\n",
    "nested_3_tuple = ((1,2,3),(4,5,6),(7,8,9))\n",
    "print(nested_3_tuple)"
   ]
  },
  {
   "cell_type": "code",
   "execution_count": 57,
   "metadata": {},
   "outputs": [
    {
     "name": "stdout",
     "output_type": "stream",
     "text": [
      "(1, 2, 3, 4, 5, 6)\n"
     ]
    }
   ],
   "source": [
    "# answer 10\n",
    "\n",
    "tp = (1,2,3,4,5)\n",
    "lst = list(tp)\n",
    "lst.append(6)\n",
    "tp2 = tuple(lst)\n",
    "print(tp2)"
   ]
  },
  {
   "cell_type": "code",
   "execution_count": 58,
   "metadata": {},
   "outputs": [
    {
     "name": "stdout",
     "output_type": "stream",
     "text": [
      "AKSHAT_KHATRI\n"
     ]
    }
   ],
   "source": [
    "# answer 11\n",
    "\n",
    "string = \"AKSHAT_KHATRI\"\n",
    "tpl = tuple(string)\n",
    "joined_string = ''.join(tpl)\n",
    "print(joined_string)"
   ]
  },
  {
   "cell_type": "code",
   "execution_count": 59,
   "metadata": {},
   "outputs": [],
   "source": [
    "# answer 12\n",
    "\n",
    "my_dict = {\n",
    "    (1,2,3) : 1,\n",
    "    (4,5,6) : 2,\n",
    "    (7,8,9) : 3,\n",
    "    (10,11,12) : 4\n",
    "}"
   ]
  },
  {
   "cell_type": "code",
   "execution_count": 60,
   "metadata": {},
   "outputs": [
    {
     "data": {
      "text/plain": [
       "{(1, 2, 3): 1, (4, 5, 6): 2, (7, 8, 9): 3, (10, 11, 12): 4}"
      ]
     },
     "execution_count": 60,
     "metadata": {},
     "output_type": "execute_result"
    }
   ],
   "source": [
    "my_dict"
   ]
  },
  {
   "cell_type": "code",
   "execution_count": 61,
   "metadata": {},
   "outputs": [
    {
     "name": "stdout",
     "output_type": "stream",
     "text": [
      "1 2 3 \n",
      "4 5 6 \n",
      "7 8 9 \n"
     ]
    }
   ],
   "source": [
    "# answer 13\n",
    "\n",
    "nested_tuples = ((1,2,3),(4,5,6),(7,8,9))\n",
    "\n",
    "for sub_tup in nested_tuples:\n",
    "    for item in sub_tup:\n",
    "        print(item, end = \" \")\n",
    "    print()"
   ]
  },
  {
   "cell_type": "code",
   "execution_count": 62,
   "metadata": {},
   "outputs": [
    {
     "data": {
      "text/plain": [
       "{1, 2, 3, 4, 5, 6, 7, 8, 9, 10}"
      ]
     },
     "execution_count": 62,
     "metadata": {},
     "output_type": "execute_result"
    }
   ],
   "source": [
    "my_tuple = (1,2,3,4,4,4,5,5,6,6,6,6,7,8,8,9,10,10,10,10,10)\n",
    "set(my_tuple)"
   ]
  },
  {
   "cell_type": "code",
   "execution_count": 63,
   "metadata": {},
   "outputs": [],
   "source": [
    "# answer 15\n",
    "\n",
    "def tuple_info(my_tuple):\n",
    "    mini = 200000\n",
    "    maxi = 0\n",
    "    sum = 0\n",
    "    \n",
    "    for item in my_tuple:\n",
    "        if item < mini:\n",
    "            mini = item\n",
    "        if item > maxi:\n",
    "            maxi = item\n",
    "        sum += item\n",
    "        \n",
    "    return mini,maxi,sum"
   ]
  },
  {
   "cell_type": "code",
   "execution_count": 64,
   "metadata": {},
   "outputs": [
    {
     "name": "stdout",
     "output_type": "stream",
     "text": [
      "1\n",
      "10\n",
      "55\n"
     ]
    }
   ],
   "source": [
    "sample_tuple = (1,2,3,4,5,6,7,8,9,10)\n",
    "mini,maxi,sum = tuple_info(sample_tuple)\n",
    "\n",
    "print(mini)\n",
    "print(maxi)\n",
    "print(sum)"
   ]
  },
  {
   "cell_type": "code",
   "execution_count": null,
   "metadata": {},
   "outputs": [],
   "source": []
  }
 ],
 "metadata": {
  "kernelspec": {
   "display_name": "Python 3",
   "language": "python",
   "name": "python3"
  },
  "language_info": {
   "codemirror_mode": {
    "name": "ipython",
    "version": 3
   },
   "file_extension": ".py",
   "mimetype": "text/x-python",
   "name": "python",
   "nbconvert_exporter": "python",
   "pygments_lexer": "ipython3",
   "version": "3.10.12"
  }
 },
 "nbformat": 4,
 "nbformat_minor": 2
}
