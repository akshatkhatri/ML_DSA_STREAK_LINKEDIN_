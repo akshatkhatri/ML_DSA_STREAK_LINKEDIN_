{
 "cells": [
  {
   "cell_type": "code",
   "execution_count": 20,
   "metadata": {},
   "outputs": [
    {
     "name": "stdout",
     "output_type": "stream",
     "text": [
      "5.0\n",
      "0.8939966636005579\n"
     ]
    }
   ],
   "source": [
    "# ANswer 1\n",
    "\n",
    "import math\n",
    "\n",
    "print(math.sqrt(25))\n",
    "print(math.sin(90))"
   ]
  },
  {
   "cell_type": "code",
   "execution_count": 21,
   "metadata": {},
   "outputs": [
    {
     "data": {
      "text/plain": [
       "datetime.datetime(2024, 11, 1, 12, 40, 41, 800139)"
      ]
     },
     "execution_count": 21,
     "metadata": {},
     "output_type": "execute_result"
    }
   ],
   "source": [
    "# Answer 2\n",
    "import datetime as dt\n",
    "dt.datetime.now()"
   ]
  },
  {
   "cell_type": "code",
   "execution_count": 22,
   "metadata": {},
   "outputs": [
    {
     "name": "stdout",
     "output_type": "stream",
     "text": [
      "24\n"
     ]
    }
   ],
   "source": [
    "# Answer 3\n",
    "from random import randint\n",
    "\n",
    "print(randint(1,100))\n",
    "\n"
   ]
  },
  {
   "cell_type": "code",
   "execution_count": 23,
   "metadata": {},
   "outputs": [
    {
     "name": "stdout",
     "output_type": "stream",
     "text": [
      "7.745966692414834\n",
      "2.8284271247461903\n"
     ]
    }
   ],
   "source": [
    "# Answer 4\n",
    "from math import sqrt,pow\n",
    "\n",
    "print(sqrt(60))\n",
    "print(sqrt(pow(2,3)))"
   ]
  },
  {
   "cell_type": "code",
   "execution_count": 24,
   "metadata": {},
   "outputs": [
    {
     "name": "stdout",
     "output_type": "stream",
     "text": [
      "Module not found, sorry\n"
     ]
    }
   ],
   "source": [
    "# Answer 5\n",
    "try:\n",
    "    import dummy_package\n",
    "except:\n",
    "    ModuleNotFoundError\n",
    "    print(\"Module not found, sorry\") "
   ]
  },
  {
   "cell_type": "code",
   "execution_count": 40,
   "metadata": {},
   "outputs": [],
   "source": [
    "# Answer 6\n",
    "\n",
    "import os\n",
    "import shutil\n",
    "\n",
    "os.mkdir('my_directory')\n",
    "os.listdir('./')\n",
    "shutil.rmtree('my_directory')"
   ]
  },
  {
   "cell_type": "code",
   "execution_count": 46,
   "metadata": {},
   "outputs": [
    {
     "name": "stdout",
     "output_type": "stream",
     "text": [
      "3.10.15 | packaged by Anaconda, Inc. | (main, Oct  3 2024, 07:22:19) [MSC v.1929 64 bit (AMD64)]\n",
      "c:\\Users\\jitik\\anaconda3\\envs\\myenv\\lib\\site-packages\\ipykernel_launcher.py\n"
     ]
    }
   ],
   "source": [
    "# Answer 7\n",
    "import sys\n",
    "\n",
    "print(sys.version)\n",
    "print(sys.argv[0])"
   ]
  },
  {
   "cell_type": "code",
   "execution_count": 53,
   "metadata": {},
   "outputs": [
    {
     "name": "stdout",
     "output_type": "stream",
     "text": [
      "5\n",
      "3628800\n"
     ]
    }
   ],
   "source": [
    "# Answer 8\n",
    "import math\n",
    "\n",
    "print(math.gcd(45,40))\n",
    "print(math.factorial(10))"
   ]
  },
  {
   "cell_type": "code",
   "execution_count": null,
   "metadata": {},
   "outputs": [],
   "source": [
    "# Answer 9\n"
   ]
  },
  {
   "cell_type": "code",
   "execution_count": 63,
   "metadata": {},
   "outputs": [
    {
     "name": "stdout",
     "output_type": "stream",
     "text": [
      "[50, 23, 36, 29, 38]\n",
      "[36, 23, 50, 29, 38]\n"
     ]
    }
   ],
   "source": [
    "#Answer 10\n",
    "import random\n",
    "\n",
    "random_list = [random.randint(1,50) for _ in range(5)]\n",
    "print(random_list)\n",
    "random.shuffle(random_list)\n",
    "print(random_list)"
   ]
  },
  {
   "cell_type": "code",
   "execution_count": 66,
   "metadata": {},
   "outputs": [
    {
     "name": "stdout",
     "output_type": "stream",
     "text": [
      "7\n",
      "22\n"
     ]
    }
   ],
   "source": [
    "# Answer 11\n",
    "\n",
    "from my_package.module1 import addition\n",
    "from my_package.module2 import subtract\n",
    "\n",
    "print(addition(2,5))\n",
    "print(subtract(100,78))"
   ]
  },
  {
   "cell_type": "code",
   "execution_count": 74,
   "metadata": {},
   "outputs": [
    {
     "name": "stdout",
     "output_type": "stream",
     "text": [
      "15\n",
      "-3\n"
     ]
    }
   ],
   "source": [
    "import my_package\n",
    "\n",
    "print(addition(5,10))\n",
    "print(subtract(7,10))"
   ]
  },
  {
   "cell_type": "code",
   "execution_count": 76,
   "metadata": {},
   "outputs": [
    {
     "name": "stdout",
     "output_type": "stream",
     "text": [
      "No Module named module3 yet in production\n"
     ]
    }
   ],
   "source": [
    "try:\n",
    "    from my_package import multiply\n",
    "except: \n",
    "    ImportError\n",
    "    print(\"No Module named module3 yet in production\")\n"
   ]
  },
  {
   "cell_type": "code",
   "execution_count": null,
   "metadata": {},
   "outputs": [],
   "source": []
  }
 ],
 "metadata": {
  "kernelspec": {
   "display_name": "myenv",
   "language": "python",
   "name": "python3"
  },
  "language_info": {
   "codemirror_mode": {
    "name": "ipython",
    "version": 3
   },
   "file_extension": ".py",
   "mimetype": "text/x-python",
   "name": "python",
   "nbconvert_exporter": "python",
   "pygments_lexer": "ipython3",
   "version": "3.10.15"
  }
 },
 "nbformat": 4,
 "nbformat_minor": 2
}
