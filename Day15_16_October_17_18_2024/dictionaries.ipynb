{
 "cells": [
  {
   "cell_type": "code",
   "execution_count": 49,
   "metadata": {},
   "outputs": [],
   "source": [
    "## Dictionaries are a key-value pairs and the keys must be immutable data types like strings,tuples e.t.c"
   ]
  },
  {
   "cell_type": "code",
   "execution_count": 50,
   "metadata": {},
   "outputs": [
    {
     "name": "stdout",
     "output_type": "stream",
     "text": [
      "{}\n",
      "{}\n"
     ]
    }
   ],
   "source": [
    "# Creating an empty dictionary\n",
    "\n",
    "m_dict = {}\n",
    "m_dict_2 = dict()\n",
    "\n",
    "print(m_dict)\n",
    "print(m_dict_2)"
   ]
  },
  {
   "cell_type": "code",
   "execution_count": 51,
   "metadata": {},
   "outputs": [
    {
     "name": "stdout",
     "output_type": "stream",
     "text": [
      "{'name': 'Akshat', 'age': 19, 'occupation': 'student'}\n"
     ]
    }
   ],
   "source": [
    "student = {\n",
    "    \"name\":\"Akshat\",\n",
    "    \"age\" : 19,\n",
    "    \"occupation\" : \"student\"\n",
    "}\n",
    "\n",
    "print(student)"
   ]
  },
  {
   "cell_type": "code",
   "execution_count": 52,
   "metadata": {},
   "outputs": [
    {
     "name": "stdout",
     "output_type": "stream",
     "text": [
      "{'name': 'Akshat Khatri', 'age': 19, 'occupation': 'student'}\n"
     ]
    }
   ],
   "source": [
    "# Using same key name will result in the latest value overriding all the previous ones\n",
    "\n",
    "student = {\n",
    "    \"name\":\"Akshat\",\n",
    "    \"age\" : 19,\n",
    "    \"occupation\" : \"student\",\n",
    "    \"name\" : \"Akshat Khatri\"\n",
    "}\n",
    "\n",
    "print(student)"
   ]
  },
  {
   "cell_type": "code",
   "execution_count": 53,
   "metadata": {},
   "outputs": [
    {
     "name": "stdout",
     "output_type": "stream",
     "text": [
      "Akshat\n",
      "19\n",
      "student\n",
      "\n",
      "Akshat\n",
      "19\n",
      "None\n",
      "Not known till now\n"
     ]
    }
   ],
   "source": [
    "# Accessing dictionary elements\n",
    "student = {\n",
    "    \"name\":\"Akshat\",\n",
    "    \"age\" : 19,\n",
    "    \"occupation\" : \"student\"\n",
    "}\n",
    "\n",
    "print(student['name'])\n",
    "print(student['age'])\n",
    "print(student[\"occupation\"])\n",
    "\n",
    "print()\n",
    "# Accesing using get() method\n",
    "\n",
    "print(student.get('name'))\n",
    "print(student.get('age'))\n",
    "\n",
    "print(student.get('sher')) # Instead of error Key error will return a None value\n",
    "print(student.get('sher',\"Not known till now\")) # will return this default value if key not found "
   ]
  },
  {
   "cell_type": "code",
   "execution_count": 54,
   "metadata": {},
   "outputs": [
    {
     "name": "stdout",
     "output_type": "stream",
     "text": [
      "{'name': 'Akshat', 'age': 20, 'occupation': 'student', 'country': 'india'}\n"
     ]
    }
   ],
   "source": [
    "# Modifying Dictionary elements\n",
    "# we can add,update,delete e.t.c\n",
    "\n",
    "student['age'] = 20\n",
    "student['country'] = \"india\"\n",
    "\n",
    "print(student)"
   ]
  },
  {
   "cell_type": "code",
   "execution_count": 55,
   "metadata": {},
   "outputs": [
    {
     "name": "stdout",
     "output_type": "stream",
     "text": [
      "{'name': 'Akshat', 'age': 20, 'country': 'india'}\n"
     ]
    }
   ],
   "source": [
    "# delete a key \n",
    "\n",
    "del student['occupation']\n",
    "print(student)"
   ]
  },
  {
   "cell_type": "code",
   "execution_count": 56,
   "metadata": {},
   "outputs": [
    {
     "name": "stdout",
     "output_type": "stream",
     "text": [
      "dict_keys(['name', 'age', 'country'])\n",
      "dict_values(['Akshat', 20, 'india'])\n"
     ]
    }
   ],
   "source": [
    "# DIctionary methods\n",
    "\n",
    "keys = student.keys()\n",
    "print(keys)\n",
    "values = student.values()\n",
    "print(values)"
   ]
  },
  {
   "cell_type": "code",
   "execution_count": 57,
   "metadata": {},
   "outputs": [
    {
     "name": "stdout",
     "output_type": "stream",
     "text": [
      "dict_items([('name', 'Akshat'), ('age', 20), ('country', 'india')])\n"
     ]
    }
   ],
   "source": [
    "items = student.items() # Key value pairs in list of tuples\n",
    "print(items)"
   ]
  },
  {
   "cell_type": "code",
   "execution_count": 58,
   "metadata": {},
   "outputs": [
    {
     "name": "stdout",
     "output_type": "stream",
     "text": [
      "{'name': 'Akshat', 'age': 20, 'country': 'india'}\n",
      "{'name': 'Akshat', 'age': 20, 'country': 'india'}\n",
      "{'name': 'Mr. Akshat Khatri', 'age': 20, 'country': 'india'}\n",
      "{'name': 'Mr. Akshat Khatri', 'age': 20, 'country': 'india'}\n"
     ]
    }
   ],
   "source": [
    "# Shallow Copy\n",
    "\n",
    "student_copy = student\n",
    "print(student)\n",
    "print(student_copy)\n",
    "\n",
    "student['name'] = \"Mr. Akshat Khatri\"\n",
    "\n",
    "print(student)\n",
    "print(student_copy) # wgen we made changes to student same changes reflected to student_copy because of the deep copy"
   ]
  },
  {
   "cell_type": "code",
   "execution_count": 59,
   "metadata": {},
   "outputs": [
    {
     "name": "stdout",
     "output_type": "stream",
     "text": [
      "{'name': 'Mr. Akshat Khatri', 'age': 20, 'country': 'india'}\n",
      "{'name': 'Mr. Akshat Khatri', 'age': '20 years', 'country': 'india'}\n"
     ]
    }
   ],
   "source": [
    "student_real_copy = student.copy() # Creates a shallow copy\n",
    "\n",
    "student['age'] = \"20 years\"\n",
    "print(student_real_copy)\n",
    "print(student)"
   ]
  },
  {
   "cell_type": "code",
   "execution_count": 60,
   "metadata": {},
   "outputs": [
    {
     "name": "stdout",
     "output_type": "stream",
     "text": [
      "name\n",
      "age\n",
      "country\n",
      "\n",
      "Mr. Akshat Khatri\n",
      "20 years\n",
      "india\n",
      "\n",
      "Key -> name : Value -> Mr. Akshat Khatri\n",
      "Key -> age : Value -> 20 years\n",
      "Key -> country : Value -> india\n"
     ]
    }
   ],
   "source": [
    "# Iterating in a dictionary\n",
    "# we can use loops to iterate over dictionaries keys,values,items\n",
    "\n",
    "# Iterating over keys\n",
    "\n",
    "for key in student.keys():\n",
    "    print(key)\n",
    "\n",
    "print()\n",
    "# Iterating over values\n",
    "\n",
    "for value in student.values():\n",
    "    print(value)\n",
    "\n",
    "# iterating over key value pairs\n",
    "print()\n",
    "for key,value in student.items(): # .items() returns a list of tuples\n",
    "    print(f\"Key -> {key} : Value -> {value}\")\n"
   ]
  },
  {
   "cell_type": "code",
   "execution_count": 61,
   "metadata": {},
   "outputs": [
    {
     "name": "stdout",
     "output_type": "stream",
     "text": [
      "{'student_1': {'name': 'Akshat Khatri', 'age': 20}, 'student_2': {'name': 'Ishita', 'age': 21}}\n"
     ]
    }
   ],
   "source": [
    "# Nested Dictionaries\n",
    "\n",
    "Student_data = {\n",
    "    \"student_1\" : {\"name\" : \"Akshat Khatri\",\"age\" : 20},\n",
    "    \"student_2\" : {\"name\" : \"Ishita\", \"age\" : 21}\n",
    "}\n",
    "\n",
    "print(Student_data)"
   ]
  },
  {
   "cell_type": "code",
   "execution_count": 62,
   "metadata": {},
   "outputs": [
    {
     "name": "stdout",
     "output_type": "stream",
     "text": [
      "Ishita\n",
      "21\n"
     ]
    }
   ],
   "source": [
    "# Accesing nested dictionaries\n",
    "\n",
    "print(Student_data['student_2']['name'])\n",
    "print(Student_data['student_2']['age'])\n"
   ]
  },
  {
   "cell_type": "code",
   "execution_count": 63,
   "metadata": {},
   "outputs": [
    {
     "name": "stdout",
     "output_type": "stream",
     "text": [
      "student_1 : name is Akshat Khatri : age is 20\n",
      "student_2 : name is Ishita : age is 21\n"
     ]
    }
   ],
   "source": [
    "# Iterating over nested dictionaries\n",
    "\n",
    "for student,info in Student_data.items():\n",
    "    print(f\"{student} : name is {info['name']} : age is {info['age']}\")"
   ]
  },
  {
   "cell_type": "code",
   "execution_count": 64,
   "metadata": {},
   "outputs": [
    {
     "name": "stdout",
     "output_type": "stream",
     "text": [
      "{0: 0, 1: 1, 2: 4, 3: 9, 4: 16, 5: 25, 6: 36, 7: 49, 8: 64, 9: 81, 10: 100}\n"
     ]
    }
   ],
   "source": [
    "# Dictionary comprehensions\n",
    "\n",
    "squared_dict = {x:x**2 for x in range(11)}\n",
    "print(squared_dict)"
   ]
  },
  {
   "cell_type": "code",
   "execution_count": 65,
   "metadata": {},
   "outputs": [
    {
     "data": {
      "text/plain": [
       "{0: 0, 2: 4, 4: 16, 6: 36, 8: 64, 10: 100}"
      ]
     },
     "execution_count": 65,
     "metadata": {},
     "output_type": "execute_result"
    }
   ],
   "source": [
    "# conditional dictionary comprehensions\n",
    "\n",
    "squared_dict = {x:x**2 for x in range(11) if x % 2 == 0}\n",
    "squared_dict"
   ]
  },
  {
   "cell_type": "code",
   "execution_count": 66,
   "metadata": {},
   "outputs": [
    {
     "name": "stdout",
     "output_type": "stream",
     "text": [
      "1 : 2\n",
      "2 : 5\n",
      "3 : 3\n",
      "4 : 3\n",
      "5 : 1\n"
     ]
    }
   ],
   "source": [
    "# use a dict to count the frequency of elements in a list\n",
    "\n",
    "numbers  = [1,2,2,2,3,3,4,4,4,5,2,3,2,1]\n",
    "\n",
    "count_dict = {}\n",
    "\n",
    "for num in numbers:\n",
    "    if num in count_dict.keys():\n",
    "        count_dict[num] += 1\n",
    "    else:\n",
    "        count_dict[num] = 1\n",
    "\n",
    "for key,value in count_dict.items():\n",
    "    print(f\"{key} : {value}\")\n"
   ]
  },
  {
   "cell_type": "code",
   "execution_count": 67,
   "metadata": {},
   "outputs": [
    {
     "name": "stdout",
     "output_type": "stream",
     "text": [
      "{'a': 1, 'b': 3, 'c': 4}\n"
     ]
    }
   ],
   "source": [
    "# Merging 2 dictionaries into one\n",
    "\n",
    "dict_1 = {\"a\" : 1, \"b\" : 1}\n",
    "dict_2 = {\"b\" : 3, \"c\" : 4}\n",
    "\n",
    "merged_dict = {**dict_1,**dict_2}\n",
    "print(merged_dict)"
   ]
  }
 ],
 "metadata": {
  "kernelspec": {
   "display_name": "Python 3",
   "language": "python",
   "name": "python3"
  },
  "language_info": {
   "codemirror_mode": {
    "name": "ipython",
    "version": 3
   },
   "file_extension": ".py",
   "mimetype": "text/x-python",
   "name": "python",
   "nbconvert_exporter": "python",
   "pygments_lexer": "ipython3",
   "version": "3.13.0"
  }
 },
 "nbformat": 4,
 "nbformat_minor": 2
}
