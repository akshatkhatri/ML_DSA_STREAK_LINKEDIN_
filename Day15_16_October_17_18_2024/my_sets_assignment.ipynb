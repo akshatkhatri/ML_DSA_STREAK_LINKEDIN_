{
 "cells": [
  {
   "cell_type": "code",
   "execution_count": 72,
   "metadata": {},
   "outputs": [
    {
     "name": "stdout",
     "output_type": "stream",
     "text": [
      "{1, 2, 3, 4, 5, 6, 7, 8, 9, 10}\n"
     ]
    }
   ],
   "source": [
    "# answer 1\n",
    "\n",
    "my_set = {1,2,3,4,5,6,7,8,9,10}\n",
    "print(my_set)"
   ]
  },
  {
   "cell_type": "code",
   "execution_count": 73,
   "metadata": {},
   "outputs": [
    {
     "data": {
      "text/plain": [
       "{2, 3, 4, 5, 6, 7, 8, 9, 10, 11}"
      ]
     },
     "execution_count": 73,
     "metadata": {},
     "output_type": "execute_result"
    }
   ],
   "source": [
    "# answer 2\n",
    "\n",
    "my_set.add(11)\n",
    "my_set.remove(1)\n",
    "my_set"
   ]
  },
  {
   "cell_type": "code",
   "execution_count": 74,
   "metadata": {},
   "outputs": [
    {
     "name": "stdout",
     "output_type": "stream",
     "text": [
      "{1, 2, 3, 4, 5, 6, 8, 10}\n",
      "{2, 4}\n",
      "{1, 3, 5}\n",
      "{1, 3, 5, 6, 8, 10}\n"
     ]
    }
   ],
   "source": [
    "# answer 3\n",
    "\n",
    "set1 = {1,2,3,4,5}\n",
    "set2 = {2,4,6,8,10}\n",
    "\n",
    "union_set = set1.union(set2)\n",
    "intersection_set = set1.intersection(set2)\n",
    "difference_set = set1.difference(set2)\n",
    "symetric_diff_set = set1.symmetric_difference(set2)\n",
    "\n",
    "print(union_set,intersection_set,difference_set,symetric_diff_set, sep = '\\n')"
   ]
  },
  {
   "cell_type": "code",
   "execution_count": 75,
   "metadata": {},
   "outputs": [
    {
     "data": {
      "text/plain": [
       "{1, 4, 9, 16, 25, 36, 49, 64, 81}"
      ]
     },
     "execution_count": 75,
     "metadata": {},
     "output_type": "execute_result"
    }
   ],
   "source": [
    "# answer 4 \n",
    "\n",
    "my_square_set = {x ** 2 for x in range(1,10)}\n",
    "my_square_set"
   ]
  },
  {
   "cell_type": "code",
   "execution_count": 76,
   "metadata": {},
   "outputs": [
    {
     "data": {
      "text/plain": [
       "{1, 2, 3, 4, 5, 6, 7, 8, 9, 10, 11}"
      ]
     },
     "execution_count": 76,
     "metadata": {},
     "output_type": "execute_result"
    }
   ],
   "source": [
    "my_set.add(1)\n",
    "my_set"
   ]
  },
  {
   "cell_type": "code",
   "execution_count": 77,
   "metadata": {},
   "outputs": [
    {
     "data": {
      "text/plain": [
       "{2, 4, 6, 8, 10}"
      ]
     },
     "execution_count": 77,
     "metadata": {},
     "output_type": "execute_result"
    }
   ],
   "source": [
    "# answer 5\n",
    "\n",
    "filtered_even_set = {x for x in my_set if x % 2==0}\n",
    "filtered_even_set"
   ]
  },
  {
   "cell_type": "code",
   "execution_count": 78,
   "metadata": {},
   "outputs": [
    {
     "name": "stdout",
     "output_type": "stream",
     "text": [
      "{64, 1, 2, 3, 4, 45}\n"
     ]
    }
   ],
   "source": [
    "# answer 6\n",
    "\n",
    "set_my = {1,2,2,3,3,3,4,2,45,64}\n",
    "print(set_my)"
   ]
  },
  {
   "cell_type": "code",
   "execution_count": 79,
   "metadata": {},
   "outputs": [
    {
     "name": "stdout",
     "output_type": "stream",
     "text": [
      "False\n",
      "True\n"
     ]
    }
   ],
   "source": [
    "# answer 7\n",
    "\n",
    "set_1 = {1,2,3,4,5}\n",
    "set_2 = {1,2,3}\n",
    "\n",
    "print(set_1.issubset(set_2)) # All elements of set1 are present in set2\n",
    "print(set_1.issuperset(set_2)) # All elements of set2 are present in set1"
   ]
  },
  {
   "cell_type": "code",
   "execution_count": 80,
   "metadata": {},
   "outputs": [
    {
     "name": "stdout",
     "output_type": "stream",
     "text": [
      "frozenset({1, 2, 3, 4, 5})\n"
     ]
    }
   ],
   "source": [
    "# answer 8\n",
    "\n",
    "# A frozen set is a immutable set in python\n",
    "sample_set = {1,2,3,4,5}\n",
    "frozen_set = frozenset([1,2,3,4,5])\n",
    "print(frozen_set)\n",
    "\n",
    "sample_set.add(10)\n",
    "# frozen_set.add(10) # This line will raise an attribute error"
   ]
  },
  {
   "cell_type": "code",
   "execution_count": 81,
   "metadata": {},
   "outputs": [
    {
     "name": "stdout",
     "output_type": "stream",
     "text": [
      "{1, 2, 3, 4, 5, 6}\n"
     ]
    }
   ],
   "source": [
    "# Answer 9\n",
    "\n",
    "set_lst = {1,2,3,4,5}\n",
    "\n",
    "lst = list(set_lst)\n",
    "lst.append(6)\n",
    "\n",
    "new_set = set(lst)\n",
    "print(new_set)"
   ]
  },
  {
   "cell_type": "code",
   "execution_count": 82,
   "metadata": {},
   "outputs": [],
   "source": [
    "# Answer 10\n",
    "\n",
    "# my_dict = {\n",
    "#     {1,2,3} : 1,\n",
    "#     {4,5,6} : 2,\n",
    "#     {7,8,9} : 3\n",
    "# }\n",
    "\n",
    "# This would raise an error as a set is immutable and therefore cant be hashed and used as a python dict key"
   ]
  },
  {
   "cell_type": "code",
   "execution_count": 83,
   "metadata": {},
   "outputs": [
    {
     "name": "stdout",
     "output_type": "stream",
     "text": [
      "1\n",
      "2\n",
      "3\n",
      "4\n",
      "5\n",
      "6\n",
      "7\n",
      "8\n",
      "9\n",
      "10\n"
     ]
    }
   ],
   "source": [
    "# Answer 11\n",
    "\n",
    "set_my = {1,2,3,4,5,6,7,8,9,10}\n",
    "\n",
    "for ele in set_my:\n",
    "    print(ele)"
   ]
  },
  {
   "cell_type": "code",
   "execution_count": 84,
   "metadata": {},
   "outputs": [
    {
     "name": "stdout",
     "output_type": "stream",
     "text": [
      "{1, 2, 3, 4, 5, 6, 7, 8, 9, 10}\n",
      "{2, 3, 4, 5, 6, 7, 8, 9, 10}\n",
      "{3, 4, 5, 6, 7, 8, 9, 10}\n",
      "{4, 5, 6, 7, 8, 9, 10}\n",
      "{5, 6, 7, 8, 9, 10}\n",
      "{6, 7, 8, 9, 10}\n",
      "{7, 8, 9, 10}\n",
      "{8, 9, 10}\n",
      "{9, 10}\n",
      "{10}\n"
     ]
    }
   ],
   "source": [
    "# Answer 12\n",
    "\n",
    "for ele in set(set_my):\n",
    "    print(set_my)\n",
    "    set_my.pop()"
   ]
  },
  {
   "cell_type": "code",
   "execution_count": 87,
   "metadata": {},
   "outputs": [
    {
     "name": "stdout",
     "output_type": "stream",
     "text": [
      "{1, 2, 3, 4, 5}\n",
      "{2, 4, 6, 8, 10}\n"
     ]
    },
    {
     "data": {
      "text/plain": [
       "{1, 3, 5, 6, 8, 10}"
      ]
     },
     "execution_count": 87,
     "metadata": {},
     "output_type": "execute_result"
    }
   ],
   "source": [
    "# Answer 13\n",
    "\n",
    "print(set1,set2,sep = '\\n')\n",
    "\n",
    "set1.symmetric_difference(set2)"
   ]
  },
  {
   "cell_type": "code",
   "execution_count": 89,
   "metadata": {},
   "outputs": [
    {
     "name": "stdout",
     "output_type": "stream",
     "text": [
      "False\n",
      "True\n",
      "True\n"
     ]
    }
   ],
   "source": [
    "# Answer 14\n",
    "\n",
    "samp_set = {1,2,3,4,5}\n",
    "\n",
    "print(6 in samp_set)\n",
    "print(4 in samp_set)\n",
    "print(2 in samp_set)"
   ]
  },
  {
   "cell_type": "code",
   "execution_count": 92,
   "metadata": {},
   "outputs": [
    {
     "name": "stdout",
     "output_type": "stream",
     "text": [
      "{(9, 10), (11, 12), (1, 2), (3, 4), (5, 6), (7, 8)}\n"
     ]
    }
   ],
   "source": [
    "# Answer 15\n",
    "\n",
    "set_tuples = {(1,2),(3,4),(5,6),(7,8),(9,10),(11,12)}\n",
    "print(set_tuples)"
   ]
  },
  {
   "cell_type": "code",
   "execution_count": null,
   "metadata": {},
   "outputs": [],
   "source": []
  }
 ],
 "metadata": {
  "kernelspec": {
   "display_name": "Python 3",
   "language": "python",
   "name": "python3"
  },
  "language_info": {
   "codemirror_mode": {
    "name": "ipython",
    "version": 3
   },
   "file_extension": ".py",
   "mimetype": "text/x-python",
   "name": "python",
   "nbconvert_exporter": "python",
   "pygments_lexer": "ipython3",
   "version": "3.13.0"
  }
 },
 "nbformat": 4,
 "nbformat_minor": 2
}
